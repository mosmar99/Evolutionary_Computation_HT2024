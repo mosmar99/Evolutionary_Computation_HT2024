{
 "cells": [
  {
   "cell_type": "code",
   "execution_count": 5,
   "metadata": {},
   "outputs": [],
   "source": [
    "# IMPORTS\n",
    "import config\n",
    "import random as rd\n",
    "import config\n",
    "from init_pop import Init_Pop\n",
    "from fitness import Fitness_Function\n",
    "from mutation import Mutation\n",
    "from recombination import Recombination\n",
    "from survival_selection import Survival_Selection\n",
    "from parent_selection import Parent_Selection\n",
    "from termination import Termination\n",
    "from visuals import Visualization\n",
    "import numpy as np"
   ]
  },
  {
   "cell_type": "code",
   "execution_count": 6,
   "metadata": {},
   "outputs": [],
   "source": [
    "init_obj = Init_Pop('random')\n",
    "population = init_obj(config.GENOME_SIZE, config.POPULATION_SIZE)"
   ]
  },
  {
   "cell_type": "code",
   "execution_count": 7,
   "metadata": {},
   "outputs": [
    {
     "data": {
      "text/plain": [
       "(100, 8)"
      ]
     },
     "execution_count": 7,
     "metadata": {},
     "output_type": "execute_result"
    }
   ],
   "source": [
    "population.shape"
   ]
  },
  {
   "cell_type": "code",
   "execution_count": 8,
   "metadata": {},
   "outputs": [
    {
     "data": {
      "text/plain": [
       "array([[5, 3, 3, 6, 4, 5, 4, 7],\n",
       "       [5, 2, 5, 3, 6, 5, 7, 7],\n",
       "       [2, 7, 7, 6, 2, 4, 1, 4],\n",
       "       [2, 1, 4, 3, 3, 5, 3, 6],\n",
       "       [1, 8, 6, 8, 2, 5, 6, 3]])"
      ]
     },
     "execution_count": 8,
     "metadata": {},
     "output_type": "execute_result"
    }
   ],
   "source": [
    "population[:5]"
   ]
  },
  {
   "cell_type": "code",
   "execution_count": 9,
   "metadata": {},
   "outputs": [
    {
     "ename": "UnboundLocalError",
     "evalue": "cannot access local variable 'fitness_strategies' where it is not associated with a value",
     "output_type": "error",
     "traceback": [
      "\u001b[1;31m---------------------------------------------------------------------------\u001b[0m",
      "\u001b[1;31mUnboundLocalError\u001b[0m                         Traceback (most recent call last)",
      "Cell \u001b[1;32mIn[9], line 1\u001b[0m\n\u001b[1;32m----> 1\u001b[0m fitness \u001b[38;5;241m=\u001b[39m \u001b[43mFitness_Function\u001b[49m\u001b[43m(\u001b[49m\u001b[38;5;124;43m'\u001b[39;49m\u001b[38;5;124;43mconflict_based\u001b[39;49m\u001b[38;5;124;43m'\u001b[39;49m\u001b[43m)\u001b[49m\n",
      "File \u001b[1;32md:\\JU\\Artificial_Intelligence_HT2024\\Artificial_Intelligence_HT2024\\projects\\Evolutionary_Computation_HT2024\\parts\\fitness.py:5\u001b[0m, in \u001b[0;36mFitness_Function.__init__\u001b[1;34m(self, fitness_strategy)\u001b[0m\n\u001b[0;32m      4\u001b[0m \u001b[38;5;28;01mdef\u001b[39;00m \u001b[38;5;21m__init__\u001b[39m(\u001b[38;5;28mself\u001b[39m, fitness_strategy):\n\u001b[1;32m----> 5\u001b[0m     \u001b[38;5;28mself\u001b[39m\u001b[38;5;241m.\u001b[39mfitness_strategy \u001b[38;5;241m=\u001b[39m \u001b[43mfitness_strategies\u001b[49m[fitness_strategy]\n\u001b[0;32m      6\u001b[0m     fitness_strategies \u001b[38;5;241m=\u001b[39m { \u001b[38;5;124m\"\u001b[39m\u001b[38;5;124mconflict_based\u001b[39m\u001b[38;5;124m\"\u001b[39m: \u001b[38;5;28mself\u001b[39m\u001b[38;5;241m.\u001b[39mconflict_based}\n\u001b[0;32m      7\u001b[0m     \u001b[38;5;28mself\u001b[39m\u001b[38;5;241m.\u001b[39mfitnesslookup \u001b[38;5;241m=\u001b[39m {}\n",
      "\u001b[1;31mUnboundLocalError\u001b[0m: cannot access local variable 'fitness_strategies' where it is not associated with a value"
     ]
    }
   ],
   "source": [
    "fitness = Fitness_Function('conflict_based')"
   ]
  },
  {
   "cell_type": "code",
   "execution_count": 6,
   "metadata": {},
   "outputs": [],
   "source": [
    "fitness_vals = fitness(population, config.GENOME_SIZE)"
   ]
  },
  {
   "cell_type": "code",
   "execution_count": 7,
   "metadata": {},
   "outputs": [
    {
     "name": "stdout",
     "output_type": "stream",
     "text": [
      "0.4285714285714286\n",
      "0.9285714285714286\n"
     ]
    }
   ],
   "source": [
    "print(min(fitness_vals))\n",
    "print(max(fitness_vals))"
   ]
  },
  {
   "cell_type": "code",
   "execution_count": 8,
   "metadata": {},
   "outputs": [
    {
     "data": {
      "text/plain": [
       "array([ 1,  2,  3,  4,  5,  6,  7,  8,  9, 10])"
      ]
     },
     "execution_count": 8,
     "metadata": {},
     "output_type": "execute_result"
    }
   ],
   "source": [
    "np.arange(1, 10+1)"
   ]
  },
  {
   "cell_type": "code",
   "execution_count": 9,
   "metadata": {},
   "outputs": [
    {
     "data": {
      "text/plain": [
       "array([2, 7, 1])"
      ]
     },
     "execution_count": 9,
     "metadata": {},
     "output_type": "execute_result"
    }
   ],
   "source": [
    "np.random.choice(a=np.arange(1, 10+1), size=3, replace=False)"
   ]
  },
  {
   "cell_type": "code",
   "execution_count": 10,
   "metadata": {},
   "outputs": [],
   "source": [
    "termination = Termination('evaluation_count')"
   ]
  },
  {
   "cell_type": "code",
   "execution_count": 11,
   "metadata": {},
   "outputs": [
    {
     "data": {
      "text/plain": [
       "True"
      ]
     },
     "execution_count": 11,
     "metadata": {},
     "output_type": "execute_result"
    }
   ],
   "source": [
    "CURR_FITNESS_EVALUATIONS = 0\n",
    "is_solution = False\n",
    "not(termination(\n",
    "    curr_fitness_evaluations=CURR_FITNESS_EVALUATIONS,\n",
    "    max_fitness_evaluations=config.MAX_FITNESS_EVALUATIONS,\n",
    "    curr_iterations=0,  \n",
    "    max_iterations=10000, \n",
    "    is_solution=is_solution\n",
    "))\n"
   ]
  },
  {
   "cell_type": "code",
   "execution_count": 28,
   "metadata": {},
   "outputs": [
    {
     "data": {
      "text/plain": [
       "array([0.07142857, 0.28571429, 0.64285714])"
      ]
     },
     "execution_count": 28,
     "metadata": {},
     "output_type": "execute_result"
    }
   ],
   "source": [
    "weighting_func = lambda x: pow(x, 2)\n",
    "weighting_func(np.array([1,2,3])) / 14"
   ]
  },
  {
   "cell_type": "code",
   "execution_count": 29,
   "metadata": {},
   "outputs": [
    {
     "data": {
      "text/plain": [
       "array([1, 4, 9])"
      ]
     },
     "execution_count": 29,
     "metadata": {},
     "output_type": "execute_result"
    }
   ],
   "source": [
    "weighting_func = lambda x: pow(x, 2)\n",
    "weighting_func(np.array([1,2,3]))"
   ]
  },
  {
   "cell_type": "code",
   "execution_count": 41,
   "metadata": {},
   "outputs": [
    {
     "data": {
      "text/plain": [
       "array([0.01389426, 0.0050943 , 0.0050943 , 0.0066756 , 0.00862724,\n",
       "       0.01735247, 0.01101079, 0.00282698, 0.01101079, 0.01101079,\n",
       "       0.01735247, 0.00862724, 0.00282698, 0.0050943 , 0.01101079,\n",
       "       0.00862724, 0.0050943 , 0.03203235, 0.00382795, 0.00862724,\n",
       "       0.01389426, 0.00862724, 0.0066756 , 0.00862724, 0.01101079,\n",
       "       0.01389426, 0.01389426, 0.00862724, 0.01389426, 0.01101079,\n",
       "       0.00282698, 0.0066756 , 0.02146734, 0.00862724, 0.01735247,\n",
       "       0.00100101, 0.0050943 , 0.0066756 , 0.00144998, 0.02146734,\n",
       "       0.01101079, 0.0066756 , 0.01389426, 0.00862724, 0.01101079,\n",
       "       0.0066756 , 0.0066756 , 0.00282698, 0.00862724, 0.01101079,\n",
       "       0.01735247, 0.01101079, 0.0050943 , 0.01389426, 0.00862724,\n",
       "       0.00862724, 0.00382795, 0.02632826, 0.0050943 , 0.0066756 ,\n",
       "       0.01101079, 0.00067085, 0.01101079, 0.00862724, 0.01101079,\n",
       "       0.01101079, 0.00382795, 0.01389426, 0.00862724, 0.0066756 ,\n",
       "       0.00144998, 0.01735247, 0.01735247, 0.00862724, 0.00100101,\n",
       "       0.01389426, 0.0050943 , 0.01389426, 0.00862724, 0.01389426,\n",
       "       0.01389426, 0.00862724, 0.01101079, 0.01101079, 0.02146734,\n",
       "       0.01735247, 0.01735247, 0.01735247, 0.00862724, 0.01389426,\n",
       "       0.01389426, 0.00862724, 0.00144998, 0.0066756 , 0.00382795,\n",
       "       0.0050943 , 0.00862724, 0.0066756 , 0.01389426, 0.01101079])"
      ]
     },
     "execution_count": 41,
     "metadata": {},
     "output_type": "execute_result"
    }
   ],
   "source": [
    "np.array(fitness_vals)**5 / np.sum(np.array(fitness_vals)**5)"
   ]
  },
  {
   "cell_type": "code",
   "execution_count": 37,
   "metadata": {},
   "outputs": [
    {
     "data": {
      "text/plain": [
       "21.552007487579584"
      ]
     },
     "execution_count": 37,
     "metadata": {},
     "output_type": "execute_result"
    }
   ],
   "source": [
    "np.sum(np.array(fitness_vals)**5)"
   ]
  },
  {
   "cell_type": "code",
   "execution_count": 51,
   "metadata": {},
   "outputs": [
    {
     "data": {
      "text/plain": [
       "array([ 1,  4,  9, 16])"
      ]
     },
     "execution_count": 51,
     "metadata": {},
     "output_type": "execute_result"
    }
   ],
   "source": [
    "arr = np.array([1,2,3,4])**2\n",
    "arr"
   ]
  },
  {
   "cell_type": "code",
   "execution_count": 47,
   "metadata": {},
   "outputs": [
    {
     "data": {
      "text/plain": [
       "array([0, 1, 2, 3])"
      ]
     },
     "execution_count": 47,
     "metadata": {},
     "output_type": "execute_result"
    }
   ],
   "source": [
    "np.arange(len(arr))"
   ]
  },
  {
   "cell_type": "code",
   "execution_count": 48,
   "metadata": {},
   "outputs": [
    {
     "data": {
      "text/plain": [
       "4"
      ]
     },
     "execution_count": 48,
     "metadata": {},
     "output_type": "execute_result"
    }
   ],
   "source": [
    "len(arr)"
   ]
  },
  {
   "cell_type": "code",
   "execution_count": 22,
   "metadata": {},
   "outputs": [
    {
     "name": "stdout",
     "output_type": "stream",
     "text": [
      "True\n"
     ]
    }
   ],
   "source": [
    "arr1 = np.random.randint(1, 9, size=8)\n",
    "arr1_b = hash(arr1.tobytes())\n",
    "arr2 = arr1.copy()\n",
    "arr2_b = hash(arr2.tobytes())\n",
    "\n",
    "print(arr1_b == arr2_b)"
   ]
  },
  {
   "cell_type": "code",
   "execution_count": 24,
   "metadata": {},
   "outputs": [
    {
     "name": "stdout",
     "output_type": "stream",
     "text": [
      "7719086398839400104\n",
      "7719086398839400104\n"
     ]
    }
   ],
   "source": [
    "print(arr1_b)\n",
    "print(arr2_b)"
   ]
  },
  {
   "cell_type": "code",
   "execution_count": 27,
   "metadata": {},
   "outputs": [],
   "source": [
    "dic = {}\n",
    "dic[arr1_b] = 20"
   ]
  },
  {
   "cell_type": "code",
   "execution_count": 30,
   "metadata": {},
   "outputs": [
    {
     "data": {
      "text/plain": [
       "{7719086398839400104: 21}"
      ]
     },
     "execution_count": 30,
     "metadata": {},
     "output_type": "execute_result"
    }
   ],
   "source": [
    "dic[arr2_b] = 21\n",
    "dic"
   ]
  },
  {
   "cell_type": "code",
   "execution_count": 31,
   "metadata": {},
   "outputs": [
    {
     "data": {
      "text/plain": [
       "{7719086398839400104: 21}"
      ]
     },
     "execution_count": 31,
     "metadata": {},
     "output_type": "execute_result"
    }
   ],
   "source": [
    "dic"
   ]
  },
  {
   "cell_type": "code",
   "execution_count": 33,
   "metadata": {},
   "outputs": [
    {
     "data": {
      "text/plain": [
       "[[1, 2], [3, 4]]"
      ]
     },
     "execution_count": 33,
     "metadata": {},
     "output_type": "execute_result"
    }
   ],
   "source": [
    "arr = np.array([[1,2], [3,4]])\n",
    "arr**2"
   ]
  },
  {
   "cell_type": "code",
   "execution_count": null,
   "metadata": {},
   "outputs": [],
   "source": [
    "arr"
   ]
  }
 ],
 "metadata": {
  "kernelspec": {
   "display_name": "Python 3",
   "language": "python",
   "name": "python3"
  },
  "language_info": {
   "codemirror_mode": {
    "name": "ipython",
    "version": 3
   },
   "file_extension": ".py",
   "mimetype": "text/x-python",
   "name": "python",
   "nbconvert_exporter": "python",
   "pygments_lexer": "ipython3",
   "version": "3.11.9"
  }
 },
 "nbformat": 4,
 "nbformat_minor": 2
}
