{
 "cells": [
  {
   "cell_type": "code",
   "execution_count": 39,
   "metadata": {},
   "outputs": [],
   "source": [
    "# IMPORTS\n",
    "import config\n",
    "import numpy as np\n",
    "import random as rd\n",
    "import config\n",
    "from init_pop import Init_Pop\n",
    "from fitness import Fitness_Function\n",
    "from mutation import Mutation\n",
    "from recombination import Recombination\n",
    "from survival_selection import Survival_Selection\n",
    "from parent_selection import Parent_Selection\n",
    "from termination import Termination\n",
    "from visuals import Visualization"
   ]
  },
  {
   "cell_type": "code",
   "execution_count": 19,
   "metadata": {},
   "outputs": [],
   "source": [
    "init_obj = Init_Pop('random')\n",
    "population = init_obj(config.GENOME_SIZE, config.POPULATION_SIZE)"
   ]
  },
  {
   "cell_type": "code",
   "execution_count": 20,
   "metadata": {},
   "outputs": [
    {
     "data": {
      "text/plain": [
       "(100, 8)"
      ]
     },
     "execution_count": 20,
     "metadata": {},
     "output_type": "execute_result"
    }
   ],
   "source": [
    "population.shape"
   ]
  },
  {
   "cell_type": "code",
   "execution_count": 21,
   "metadata": {},
   "outputs": [
    {
     "data": {
      "text/plain": [
       "array([[5, 8, 2, 7, 3, 4, 6, 1],\n",
       "       [5, 5, 8, 5, 4, 5, 4, 8],\n",
       "       [8, 1, 6, 3, 7, 6, 5, 6],\n",
       "       [6, 7, 7, 1, 2, 4, 2, 7],\n",
       "       [4, 8, 5, 6, 4, 7, 8, 6]])"
      ]
     },
     "execution_count": 21,
     "metadata": {},
     "output_type": "execute_result"
    }
   ],
   "source": [
    "population[:5]"
   ]
  },
  {
   "cell_type": "code",
   "execution_count": 40,
   "metadata": {},
   "outputs": [],
   "source": [
    "fitness = Fitness_Function('conflict_based')"
   ]
  },
  {
   "cell_type": "code",
   "execution_count": 41,
   "metadata": {},
   "outputs": [],
   "source": [
    "curr_most_fit_individual = max(fitness(population))"
   ]
  },
  {
   "cell_type": "code",
   "execution_count": 42,
   "metadata": {},
   "outputs": [
    {
     "data": {
      "text/plain": [
       "0.8928571428571429"
      ]
     },
     "execution_count": 42,
     "metadata": {},
     "output_type": "execute_result"
    }
   ],
   "source": [
    "curr_most_fit_individual"
   ]
  },
  {
   "cell_type": "code",
   "execution_count": 25,
   "metadata": {},
   "outputs": [],
   "source": [
    "termination = Termination('evaluation_count')"
   ]
  },
  {
   "cell_type": "code",
   "execution_count": 26,
   "metadata": {},
   "outputs": [
    {
     "data": {
      "text/plain": [
       "True"
      ]
     },
     "execution_count": 26,
     "metadata": {},
     "output_type": "execute_result"
    }
   ],
   "source": [
    "CURR_FITNESS_EVALUATIONS = 0\n",
    "is_solution = False\n",
    "not(termination(\n",
    "    curr_fitness_evaluations=CURR_FITNESS_EVALUATIONS,\n",
    "    max_fitness_evaluations=config.MAX_FITNESS_EVALUATIONS,\n",
    "    curr_iterations=0,  \n",
    "    max_iterations=10000, \n",
    "    is_solution=is_solution\n",
    "))\n"
   ]
  },
  {
   "cell_type": "code",
   "execution_count": null,
   "metadata": {},
   "outputs": [],
   "source": [
    "population"
   ]
  }
 ],
 "metadata": {
  "kernelspec": {
   "display_name": "Python 3",
   "language": "python",
   "name": "python3"
  },
  "language_info": {
   "codemirror_mode": {
    "name": "ipython",
    "version": 3
   },
   "file_extension": ".py",
   "mimetype": "text/x-python",
   "name": "python",
   "nbconvert_exporter": "python",
   "pygments_lexer": "ipython3",
   "version": "3.11.9"
  }
 },
 "nbformat": 4,
 "nbformat_minor": 2
}
