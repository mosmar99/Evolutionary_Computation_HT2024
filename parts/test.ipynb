{
 "cells": [
  {
   "cell_type": "code",
   "execution_count": 15,
   "metadata": {},
   "outputs": [],
   "source": [
    "# IMPORTS\n",
    "import config\n",
    "import numpy as np\n",
    "import random as rd\n",
    "from init_pop import Init_Pop, Init_Random\n",
    "from fitness import Fitness_Function, Conflict_Based\n",
    "from mutation import Mutation, Swap_Mutation\n",
    "from recombination import Recombination, Cut_And_Crossfill\n",
    "from selection import Selection, Tournament, Delete_Replace\n",
    "from termination import Termination, Evaluation_Count\n",
    "from visuals import Visualization, Terminal"
   ]
  },
  {
   "cell_type": "code",
   "execution_count": 5,
   "metadata": {},
   "outputs": [],
   "source": [
    "population = Init_Pop(Init_Random()).initialize_population(config.GENOME_SIZE, config.POPULATION_SIZE)"
   ]
  },
  {
   "cell_type": "code",
   "execution_count": 7,
   "metadata": {},
   "outputs": [
    {
     "data": {
      "text/plain": [
       "(100, 8)"
      ]
     },
     "execution_count": 7,
     "metadata": {},
     "output_type": "execute_result"
    }
   ],
   "source": [
    "population.shape"
   ]
  },
  {
   "cell_type": "code",
   "execution_count": 8,
   "metadata": {},
   "outputs": [
    {
     "data": {
      "text/plain": [
       "array([[4, 4, 3, 2, 8, 1, 4, 7],\n",
       "       [1, 2, 6, 7, 5, 5, 5, 1],\n",
       "       [2, 3, 5, 8, 5, 5, 6, 6],\n",
       "       [5, 1, 4, 2, 3, 1, 6, 4],\n",
       "       [4, 6, 4, 2, 2, 6, 7, 1]])"
      ]
     },
     "execution_count": 8,
     "metadata": {},
     "output_type": "execute_result"
    }
   ],
   "source": [
    "population[:5]"
   ]
  },
  {
   "cell_type": "code",
   "execution_count": 11,
   "metadata": {},
   "outputs": [],
   "source": [
    "curr_most_fit_individual = max(Fitness_Function(Conflict_Based()).evaluate(population))"
   ]
  },
  {
   "cell_type": "code",
   "execution_count": 13,
   "metadata": {},
   "outputs": [
    {
     "data": {
      "text/plain": [
       "0.8928571428571429"
      ]
     },
     "execution_count": 13,
     "metadata": {},
     "output_type": "execute_result"
    }
   ],
   "source": [
    "curr_most_fit_individual"
   ]
  },
  {
   "cell_type": "code",
   "execution_count": 18,
   "metadata": {},
   "outputs": [
    {
     "data": {
      "text/plain": [
       "True"
      ]
     },
     "execution_count": 18,
     "metadata": {},
     "output_type": "execute_result"
    }
   ],
   "source": [
    "CURR_FITNESS_EVALUATIONS = 0\n",
    "is_solution = False\n",
    "not(Termination(Evaluation_Count()).is_terminate(\n",
    "    curr_fitness_evaluations=CURR_FITNESS_EVALUATIONS,\n",
    "    max_fitness_evaluations=config.MAX_FITNESS_EVALUATIONS,\n",
    "    curr_iterations=0,  \n",
    "    max_iterations=10000, \n",
    "    is_solution=is_solution\n",
    "))\n"
   ]
  }
 ],
 "metadata": {
  "kernelspec": {
   "display_name": "Python 3",
   "language": "python",
   "name": "python3"
  },
  "language_info": {
   "codemirror_mode": {
    "name": "ipython",
    "version": 3
   },
   "file_extension": ".py",
   "mimetype": "text/x-python",
   "name": "python",
   "nbconvert_exporter": "python",
   "pygments_lexer": "ipython3",
   "version": "3.11.9"
  }
 },
 "nbformat": 4,
 "nbformat_minor": 2
}
