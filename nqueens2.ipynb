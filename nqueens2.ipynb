{
 "cells": [
  {
   "cell_type": "code",
   "execution_count": 2,
   "metadata": {},
   "outputs": [],
   "source": [
    "import numpy as np\n",
    "import random as rd\n",
    "# Constants\n",
    "GENOME_SIZE = 8 # N-QUEENS (EX: 'every Queen has a genome size of 8')\n",
    "POPULATION_SIZE = 100\n",
    "NUM_OFFSPRING = 2\n",
    "RECOMBINATION_RATE = 1.0  \n",
    "MUTATION_RATE = 0.8  \n",
    "MAX_FITNESS_EVALUATIONS = 10000"
   ]
  },
  {
   "cell_type": "code",
   "execution_count": 3,
   "metadata": {},
   "outputs": [],
   "source": [
    "# random init of individuals in population of size POPULATION_SIZE\n",
    "def init_population(GENOME_SIZE, POPULATION_SIZE):\n",
    "    # low while is included, however, high value is excluded in the calcs\n",
    "    return np.random.randint(low=1, high=8+1, size=(POPULATION_SIZE, GENOME_SIZE))"
   ]
  },
  {
   "cell_type": "code",
   "execution_count": 4,
   "metadata": {},
   "outputs": [
    {
     "data": {
      "text/plain": [
       "(100, 8)"
      ]
     },
     "execution_count": 4,
     "metadata": {},
     "output_type": "execute_result"
    }
   ],
   "source": [
    "population = init_population(GENOME_SIZE, POPULATION_SIZE)\n",
    "population.shape"
   ]
  },
  {
   "cell_type": "code",
   "execution_count": 199,
   "metadata": {},
   "outputs": [],
   "source": [
    "def conflict_counter(individual):\n",
    "    # To Check: \n",
    "    # 1] Queens can't be in the same row (due to individual representation, no need to check for conflicting columns)\n",
    "    # 2] Queens can't be in the same diagonal\n",
    "    # Fitness Functions returns: '#(Conflicting Pairs of Queens)'\n",
    "    n = len(individual)\n",
    "    conflict_counter = 0\n",
    "    for Q1 in range(n):\n",
    "        for Q2 in range(Q1+1, n):\n",
    "            # counts conflicts row-wise\n",
    "            if(individual[Q1] == individual[Q2]):\n",
    "                conflict_counter += 1\n",
    "            # counts conflicts diag-wise\n",
    "            # EX: [_,1,_,_,_,_,6,_] -> (2,1) & (7,6) => DIAG: (2-7)=(1-6) <=> (-5)=(-5)\n",
    "            # DIFF_X = DIFF_Y => DIAG \n",
    "            if abs(individual[Q1] - individual[Q2]) == abs(Q1 - Q2):\n",
    "                conflict_counter += 1\n",
    "    return conflict_counter\n",
    "\n",
    "# returns an fitness array of current population (may be 1 individual in population or more) \n",
    "def eval_fitness(population):\n",
    "    fitness_evals = []\n",
    "    if(np.array(population).ndim == 1):\n",
    "            fitness_evals.append(1 - conflict_counter(population) / 28) \n",
    "    elif(np.array(population).ndim == 2):\n",
    "        for i in range(len(population)):\n",
    "            fitness_evals.append(1 - conflict_counter(population[i]) / 28) \n",
    "    return fitness_evals"
   ]
  },
  {
   "cell_type": "code",
   "execution_count": 200,
   "metadata": {},
   "outputs": [
    {
     "name": "stdout",
     "output_type": "stream",
     "text": [
      "Initial Max-Fitness Evaluation 0.8928571428571429\n"
     ]
    }
   ],
   "source": [
    "print(\"Initial Max-Fitness Evaluation\", max(eval_fitness(population)))"
   ]
  },
  {
   "cell_type": "code",
   "execution_count": 201,
   "metadata": {},
   "outputs": [],
   "source": [
    "# Select the best 2 selected_parents from a random group of 5 individuals\n",
    "def parent_selection(population):\n",
    "    candidates = rd.sample(list(population), 5)\n",
    "    candidates.sort(key=eval_fitness, reverse=True)\n",
    "    return candidates[0], candidates[1]"
   ]
  },
  {
   "cell_type": "code",
   "execution_count": 202,
   "metadata": {},
   "outputs": [
    {
     "data": {
      "text/plain": [
       "(array([8, 5, 4, 8, 1, 7, 7, 8]), array([8, 2, 6, 3, 2, 7, 6, 3]))"
      ]
     },
     "execution_count": 202,
     "metadata": {},
     "output_type": "execute_result"
    }
   ],
   "source": [
    "selected_parents = parent_selection(population)\n",
    "selected_parents"
   ]
  },
  {
   "cell_type": "code",
   "execution_count": 205,
   "metadata": {},
   "outputs": [],
   "source": [
    "# at crossover point (cut_index), cutt both parents DNA and crossfill\n",
    "def cut_and_crossfill(dad, mom, GENOME_SIZE):\n",
    "    child_one = []\n",
    "    child_two = []\n",
    "    # cut_index = np.random.randint(1, GENOME_SIZE-1)\n",
    "    cut_index = GENOME_SIZE/2\n",
    "    for i in range(GENOME_SIZE):\n",
    "        if(i < cut_index):\n",
    "            child_one.append(dad[i])\n",
    "            child_two.append(mom[i])\n",
    "        else:\n",
    "            child_one.append(mom[i])\n",
    "            child_two.append(dad[i])\n",
    "    return [child_one, child_two]\n",
    "\n",
    "# with prob recombination_rate, do cut_and_crossfill\n",
    "def recombination(selected_parents, recombination_rate):\n",
    "    if (np.random.rand() <= recombination_rate):\n",
    "        dad = selected_parents[0]\n",
    "        mom = selected_parents[1]\n",
    "        children = cut_and_crossfill(dad, mom, GENOME_SIZE)\n",
    "        return children\n",
    "    else:\n",
    "        return selected_parents\n"
   ]
  },
  {
   "cell_type": "code",
   "execution_count": 206,
   "metadata": {},
   "outputs": [
    {
     "name": "stdout",
     "output_type": "stream",
     "text": [
      "(array([5, 2, 2, 6, 8, 2, 5, 1]), array([2, 7, 3, 4, 1, 5, 5, 8])) 0.8392857142857143\n",
      "[[5, 2, 2, 6, 1, 5, 5, 8], [2, 7, 3, 4, 8, 2, 5, 1]] 0.8035714285714286\n"
     ]
    }
   ],
   "source": [
    "selected_parents = parent_selection(population)\n",
    "offspring = recombination(selected_parents, RECOMBINATION_RATE)\n",
    "print(selected_parents, np.mean(eval_fitness(selected_parents)))\n",
    "print(offspring, np.mean(eval_fitness(offspring)))"
   ]
  },
  {
   "cell_type": "code",
   "execution_count": 207,
   "metadata": {},
   "outputs": [],
   "source": [
    "def swap_mutation(individual, mutation_rate, GENOME_SIZE):\n",
    "    if (np.random.rand() <= mutation_rate):\n",
    "        # get indices of 2 random genes in the genome\n",
    "        gene_idx1, gene_idx2 = np.random.choice(GENOME_SIZE, 2, replace=False)\n",
    "\n",
    "        # return the genes at specified indices\n",
    "        gene1, gene2 = individual[gene_idx1].copy(), individual[gene_idx2].copy()\n",
    "\n",
    "        # swap the genes contents of the two genes at the specified indices\n",
    "        individual[gene_idx1] = gene2\n",
    "        individual[gene_idx2] = gene1\n",
    "    return individual"
   ]
  },
  {
   "cell_type": "code",
   "execution_count": 208,
   "metadata": {},
   "outputs": [
    {
     "name": "stdout",
     "output_type": "stream",
     "text": [
      "[[5, 2, 2, 6, 1, 5, 5, 8], [2, 7, 3, 4, 8, 2, 5, 1]] 0.8035714285714286\n",
      "[[5, 2, 2, 6, 5, 1, 5, 8], [2, 7, 3, 4, 8, 2, 5, 1]] 0.7857142857142858\n"
     ]
    }
   ],
   "source": [
    "print(offspring, np.mean(eval_fitness(offspring)))\n",
    "mutated_offspring = [swap_mutation(child, MUTATION_RATE, GENOME_SIZE) for child in offspring]\n",
    "print(mutated_offspring, np.mean(eval_fitness(mutated_offspring)))"
   ]
  },
  {
   "cell_type": "code",
   "execution_count": 210,
   "metadata": {},
   "outputs": [
    {
     "data": {
      "text/plain": [
       "[0.7142857142857143, 0.8571428571428572]"
      ]
     },
     "execution_count": 210,
     "metadata": {},
     "output_type": "execute_result"
    }
   ],
   "source": [
    "offspring_fitness = eval_fitness(mutated_offspring)"
   ]
  },
  {
   "cell_type": "code",
   "execution_count": 239,
   "metadata": {},
   "outputs": [],
   "source": [
    "def survival_selection(population, offspring):\n",
    "    population_list = population.tolist()\n",
    "    population_list.sort(key=eval_fitness, reverse=False)        \n",
    "    population_list[0], population_list[1] = offspring[0], offspring[1]\n",
    "    return np.array(population_list)"
   ]
  },
  {
   "cell_type": "code",
   "execution_count": 240,
   "metadata": {},
   "outputs": [
    {
     "name": "stdout",
     "output_type": "stream",
     "text": [
      "[0.5]\n",
      "[0.8214285714285714]\n",
      "[0.8928571428571429]\n"
     ]
    }
   ],
   "source": [
    "population_list = population.tolist()\n",
    "population_list.sort(key=eval_fitness, reverse=False)\n",
    "print(eval_fitness(population_list[0]))\n",
    "print(eval_fitness(population_list[88]))\n",
    "print(eval_fitness(population_list[-1]))"
   ]
  },
  {
   "cell_type": "code",
   "execution_count": 241,
   "metadata": {},
   "outputs": [
    {
     "name": "stdout",
     "output_type": "stream",
     "text": [
      "0.7246428571428573\n",
      "0.73\n"
     ]
    }
   ],
   "source": [
    "print(np.mean(eval_fitness(population)))\n",
    "new_population = survival_selection(population, offspring)\n",
    "print(np.mean(eval_fitness(new_population)))"
   ]
  },
  {
   "cell_type": "code",
   "execution_count": null,
   "metadata": {},
   "outputs": [],
   "source": [
    "# def genetic_algorithm():\n",
    "#     CURR_FITNESS_EVALUATIONS  = 0\n",
    "#     population = init_population(GENOME_SIZE, POPULATION_SIZE)\n",
    "\n",
    "#     while( not(termination_condition(CURR_FITNESS_EVALUATIONS, MAX_FITNESS_EVALUATIONS)) ):\n",
    "#         selected_parents = parent_selection(population)\n",
    "#         offspring = recombination(selected_parents, RECOMBINATION_RATE)\n",
    "#         mutated_offspring = [swap_mutation(child, MUTATION_RATE, GENOME_SIZE) for child in offspring]\n",
    "#         offspring_fitness = eval_fitness(mutated_offspring)\n",
    "#         CURR_FITNESS_EVALUATIONS += len(offspring_fitness)\n",
    "#         population = survival_selection(population, mutated_offspring)"
   ]
  }
 ],
 "metadata": {
  "kernelspec": {
   "display_name": "Python 3",
   "language": "python",
   "name": "python3"
  },
  "language_info": {
   "codemirror_mode": {
    "name": "ipython",
    "version": 3
   },
   "file_extension": ".py",
   "mimetype": "text/x-python",
   "name": "python",
   "nbconvert_exporter": "python",
   "pygments_lexer": "ipython3",
   "version": "3.11.9"
  }
 },
 "nbformat": 4,
 "nbformat_minor": 2
}
