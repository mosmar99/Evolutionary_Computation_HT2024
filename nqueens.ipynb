{
 "cells": [
  {
   "cell_type": "code",
   "execution_count": 80,
   "metadata": {},
   "outputs": [],
   "source": [
    "import numpy as np\n",
    "import random as rd\n",
    "from sys import getsizeof\n",
    "import math "
   ]
  },
  {
   "cell_type": "markdown",
   "metadata": {},
   "source": [
    "### State"
   ]
  },
  {
   "cell_type": "code",
   "execution_count": 81,
   "metadata": {},
   "outputs": [
    {
     "name": "stdout",
     "output_type": "stream",
     "text": [
      "   a  b  c  d  e  f  g  h\n",
      "1  Q  .  .  .  .  .  .  .  1\n",
      "2  .  Q  .  .  .  .  .  .  2\n",
      "3  .  .  Q  .  .  .  .  .  3\n",
      "4  .  .  .  Q  .  .  .  .  4\n",
      "5  .  .  .  .  Q  .  .  .  5\n",
      "6  .  .  .  .  .  Q  .  .  6\n",
      "7  .  .  .  .  .  .  Q  .  7\n",
      "8  .  .  .  .  .  .  .  Q  8\n",
      "   a  b  c  d  e  f  g  h\n"
     ]
    }
   ],
   "source": [
    "def visualize_board(state):\n",
    "    n = len(state)\n",
    "    columns = \"abcdefgh\"  \n",
    "    \n",
    "    print(\"   \" + \"  \".join(columns[:n]))\n",
    "\n",
    "    for row in range(n):\n",
    "        line = f\"{row + 1}  \" \n",
    "        for col in range(n):\n",
    "            if state[col] == row + 1: \n",
    "                line += \"Q  \"\n",
    "            else:\n",
    "                line += \".  \"\n",
    "        line += f\"{row + 1}\"  \n",
    "        print(line)\n",
    "    \n",
    "    print(\"   \" + \"  \".join(columns[:n]))\n",
    "\n",
    "# Example usage:\n",
    "state = np.array([1,2,3,4,5,6,7,8])\n",
    "visualize_board(state)"
   ]
  },
  {
   "cell_type": "markdown",
   "metadata": {},
   "source": [
    "### Population Generation"
   ]
  },
  {
   "cell_type": "code",
   "execution_count": 82,
   "metadata": {},
   "outputs": [],
   "source": [
    "def init_population_generation(n):\n",
    "    # low while is included while high value is excluded in the calculations\n",
    "    return np.random.randint(low=1, high=8+1, size=(n,8))"
   ]
  },
  {
   "cell_type": "code",
   "execution_count": 83,
   "metadata": {},
   "outputs": [],
   "source": [
    "population_size = 100 # choose an even number\n",
    "state = init_population_generation(population_size)\n",
    "# state"
   ]
  },
  {
   "cell_type": "markdown",
   "metadata": {},
   "source": [
    "### Fitness Function"
   ]
  },
  {
   "cell_type": "code",
   "execution_count": 84,
   "metadata": {},
   "outputs": [],
   "source": [
    "def fitness_function(state):\n",
    "    # To Check: \n",
    "    # 1] Queens can't be in the same row (due to state representation, no need to check for conflicting columns)\n",
    "    # 2] Queens can't be in the same diagonal\n",
    "    # Fitness Functions returns: '#(Conflicting Pairs of Queens)'\n",
    "    n = len(state)\n",
    "    conflict_counter = 0\n",
    "    for Q1 in range(n):\n",
    "        for Q2 in range(Q1+1, n):\n",
    "            # counts conflicts row-wise\n",
    "            if(state[Q1] == state[Q2]):\n",
    "                conflict_counter += 1\n",
    "            # counts conflicts diag-wise\n",
    "            # EX: [_,1,_,_,_,_,6,_] -> (2,1) & (7,6) => DIAG: (2-7)=(1-6) <=> (-5)=(-5)\n",
    "            if(state[Q1]-state[Q2] == Q1-Q2):\n",
    "                conflict_counter += 1\n",
    "    return conflict_counter"
   ]
  },
  {
   "cell_type": "markdown",
   "metadata": {},
   "source": [
    "### Evaluate Function Fitness"
   ]
  },
  {
   "cell_type": "code",
   "execution_count": 85,
   "metadata": {},
   "outputs": [],
   "source": [
    "def eval_fitness(state):\n",
    "    fitness_evals = []\n",
    "    if(state.ndim == 1):\n",
    "            fitness_evals.append(1 - fitness_function(state) / 28) \n",
    "    elif(state.ndim == 2):\n",
    "        for i in range(len(state)):\n",
    "            fitness_evals.append(1 - fitness_function(state[i]) / 28) \n",
    "    \n",
    "    return np.array(fitness_evals)\n",
    "fitness_evals = eval_fitness(state)"
   ]
  },
  {
   "cell_type": "code",
   "execution_count": 86,
   "metadata": {},
   "outputs": [
    {
     "data": {
      "text/plain": [
       "(100,)"
      ]
     },
     "execution_count": 86,
     "metadata": {},
     "output_type": "execute_result"
    }
   ],
   "source": [
    "fitness_evals.shape"
   ]
  },
  {
   "cell_type": "code",
   "execution_count": 87,
   "metadata": {},
   "outputs": [
    {
     "data": {
      "text/plain": [
       "(100, 8)"
      ]
     },
     "execution_count": 87,
     "metadata": {},
     "output_type": "execute_result"
    }
   ],
   "source": [
    "state.shape"
   ]
  },
  {
   "cell_type": "markdown",
   "metadata": {},
   "source": [
    "### Selection"
   ]
  },
  {
   "cell_type": "code",
   "execution_count": 88,
   "metadata": {},
   "outputs": [
    {
     "data": {
      "text/plain": [
       "array([0.71428571])"
      ]
     },
     "execution_count": 88,
     "metadata": {},
     "output_type": "execute_result"
    }
   ],
   "source": [
    "eval_fitness(state[38])"
   ]
  },
  {
   "cell_type": "code",
   "execution_count": 89,
   "metadata": {},
   "outputs": [],
   "source": [
    "# Tournament Strategy: \"Best 2 out of Random 5\"\n",
    "def selection(state, population_size):\n",
    "    selected_individuals = []\n",
    "    while(len(selected_individuals) < population_size):\n",
    "        i = np.random.randint(low=0, high=len(state))\n",
    "        idxs = np.random.choice(population_size, 5, replace=False)\n",
    "        nr1_individual = nr2_individual = 0\n",
    "        for i in range(idxs.size):\n",
    "            if(i == 0):\n",
    "                if(eval_fitness(state[idxs[0]]) > eval_fitness(state[idxs[1]])):\n",
    "                    nr1_individual = state[idxs[0]].copy()\n",
    "                    nr2_individual = state[idxs[1]].copy()\n",
    "                    continue\n",
    "                else:\n",
    "                    nr1_individual = state[idxs[1]].copy()\n",
    "                    nr2_individual = state[idxs[0]].copy()\n",
    "                    continue\n",
    "            if(i == 1):\n",
    "                continue\n",
    "            if(eval_fitness(state[idxs[i]]) > eval_fitness(nr1_individual)):\n",
    "                nr2_individual = nr1_individual.copy()\n",
    "                nr1_individual = state[idxs[i]].copy()\n",
    "            if(eval_fitness(state[idxs[i]]) > eval_fitness(nr2_individual)):\n",
    "                nr2_individual = state[idxs[i]].copy()\n",
    "        selected_individuals.extend([nr1_individual, nr2_individual])\n",
    "    return np.array(selected_individuals)"
   ]
  },
  {
   "cell_type": "code",
   "execution_count": 90,
   "metadata": {},
   "outputs": [],
   "source": [
    "selected_individuals = selection(state, population_size)"
   ]
  },
  {
   "cell_type": "code",
   "execution_count": 91,
   "metadata": {},
   "outputs": [
    {
     "data": {
      "text/plain": [
       "array([32, 94, 75, 80, 22])"
      ]
     },
     "execution_count": 91,
     "metadata": {},
     "output_type": "execute_result"
    }
   ],
   "source": [
    "idxs = np.random.choice(100, 5, replace=False)\n",
    "idxs"
   ]
  },
  {
   "cell_type": "code",
   "execution_count": 92,
   "metadata": {},
   "outputs": [
    {
     "name": "stdout",
     "output_type": "stream",
     "text": [
      "100 100\n"
     ]
    }
   ],
   "source": [
    "print(len(selected_individuals), population_size)"
   ]
  },
  {
   "cell_type": "code",
   "execution_count": 93,
   "metadata": {},
   "outputs": [
    {
     "name": "stdout",
     "output_type": "stream",
     "text": [
      "[[8 6 2 4 8 3 6 7]\n",
      " [6 4 3 4 3 5 7 1]\n",
      " [4 4 8 8 3 5 3 2]\n",
      " [3 2 6 6 8 7 1 7]\n",
      " [4 8 6 2 1 7 8 2]\n",
      " [4 8 6 2 1 7 8 2]\n",
      " [8 2 3 7 7 1 6 2]\n",
      " [8 2 3 7 7 1 6 2]\n",
      " [4 4 8 8 3 5 3 2]\n",
      " [3 2 6 6 8 7 1 7]\n",
      " [4 4 8 8 3 5 3 2]\n",
      " [1 2 6 4 3 3 8 7]\n",
      " [8 1 6 8 2 5 2 4]\n",
      " [7 3 1 4 7 3 8 2]\n",
      " [6 4 1 8 4 3 7 2]\n",
      " [6 4 1 8 4 3 7 2]\n",
      " [8 2 3 7 7 1 6 2]\n",
      " [7 4 4 7 1 6 3 1]\n",
      " [8 6 2 4 8 3 6 7]\n",
      " [6 4 3 4 3 5 7 1]\n",
      " [2 6 2 4 8 8 3 2]\n",
      " [2 6 2 4 8 8 3 2]\n",
      " [8 5 7 8 4 1 2 2]\n",
      " [2 5 4 6 7 2 8 1]\n",
      " [7 4 7 1 3 5 3 2]\n",
      " [7 4 7 1 3 5 3 2]\n",
      " [2 5 4 6 7 2 8 1]\n",
      " [2 5 4 6 7 2 8 1]\n",
      " [8 2 1 7 4 7 8 1]\n",
      " [2 6 2 4 8 8 3 2]\n",
      " [2 8 6 1 4 6 1 6]\n",
      " [2 8 6 1 4 6 1 6]\n",
      " [7 4 7 1 3 5 3 2]\n",
      " [7 4 7 1 3 5 3 2]\n",
      " [2 8 6 1 4 6 1 6]\n",
      " [7 1 4 5 5 6 5 6]\n",
      " [4 4 8 8 3 5 3 2]\n",
      " [7 6 6 2 4 8 5 5]\n",
      " [8 2 1 7 4 7 8 1]\n",
      " [7 8 5 3 7 6 8 5]\n",
      " [2 6 2 4 8 8 3 2]\n",
      " [2 6 2 4 8 8 3 2]\n",
      " [7 3 1 4 7 3 8 2]\n",
      " [7 3 1 4 7 3 8 2]\n",
      " [4 2 2 8 7 5 7 3]\n",
      " [4 2 2 8 7 5 7 3]\n",
      " [4 8 6 2 1 7 8 2]\n",
      " [4 8 6 2 1 7 8 2]\n",
      " [7 3 1 4 7 3 8 2]\n",
      " [5 4 2 5 3 7 2 1]\n",
      " [7 3 1 4 7 3 8 2]\n",
      " [7 3 1 4 7 3 8 2]\n",
      " [4 8 6 5 7 6 5 7]\n",
      " [2 2 3 8 1 3 5 2]\n",
      " [7 6 4 6 4 4 7 5]\n",
      " [1 6 4 7 2 1 2 2]\n",
      " [3 2 6 6 8 7 1 7]\n",
      " [7 6 4 1 1 4 2 6]\n",
      " [8 2 3 7 7 1 6 2]\n",
      " [8 5 1 3 4 8 7 1]\n",
      " [1 2 6 4 3 3 8 7]\n",
      " [7 5 5 8 6 8 1 1]\n",
      " [8 1 4 4 6 2 3 7]\n",
      " [8 1 4 4 6 2 3 7]\n",
      " [2 8 8 6 1 5 8 1]\n",
      " [7 5 4 4 5 2 8 2]\n",
      " [8 1 6 8 2 5 2 4]\n",
      " [8 1 6 8 2 5 2 4]\n",
      " [7 6 6 2 4 8 5 5]\n",
      " [2 8 6 1 4 6 1 6]\n",
      " [8 4 1 5 6 8 7 3]\n",
      " [7 6 6 2 4 8 5 5]\n",
      " [7 4 7 1 3 5 3 2]\n",
      " [7 4 7 1 3 5 3 2]\n",
      " [7 4 7 1 3 5 3 2]\n",
      " [8 5 7 8 4 1 2 2]\n",
      " [8 8 7 6 2 5 8 4]\n",
      " [3 6 2 3 1 8 1 5]\n",
      " [7 4 7 1 3 5 3 2]\n",
      " [7 4 7 1 3 5 3 2]\n",
      " [4 8 6 2 1 7 8 2]\n",
      " [4 8 6 2 1 7 8 2]\n",
      " [7 6 4 6 4 4 7 5]\n",
      " [8 6 2 4 8 3 6 7]\n",
      " [3 2 6 6 8 7 1 7]\n",
      " [4 8 6 2 1 7 8 2]\n",
      " [4 8 6 2 1 7 8 2]\n",
      " [3 6 2 3 1 8 1 5]\n",
      " [8 8 7 6 2 5 8 4]\n",
      " [8 8 7 6 2 5 8 4]\n",
      " [2 6 2 4 8 8 3 2]\n",
      " [8 6 2 4 8 3 6 7]\n",
      " [4 1 1 2 7 5 6 5]\n",
      " [4 1 1 2 7 5 6 5]\n",
      " [2 6 2 4 8 8 3 2]\n",
      " [2 6 2 4 8 8 3 2]\n",
      " [2 7 2 6 2 2 1 8]\n",
      " [4 8 1 7 1 8 1 7]\n",
      " [2 6 6 2 8 4 8 7]\n",
      " [7 7 6 6 4 1 4 7]]\n"
     ]
    }
   ],
   "source": [
    "print(selected_individuals)"
   ]
  },
  {
   "cell_type": "markdown",
   "metadata": {},
   "source": [
    "### Crossover (Recombination)"
   ]
  },
  {
   "cell_type": "code",
   "execution_count": 94,
   "metadata": {},
   "outputs": [],
   "source": [
    "# state = current boards after selection\n",
    "# probability = probability of mutation, usually between 70-90%\n",
    "def recombination(selected_individuals, population_size, crossover_rate):\n",
    "    new_population = []\n",
    "    copy_selected_individuals = selected_individuals.copy()\n",
    "\n",
    "    while len(new_population) < population_size:\n",
    "        crossover_point = np.random.randint(3, 6)\n",
    "        dad_idx = np.random.randint(0, len(copy_selected_individuals))\n",
    "        mom_idx = dad_idx\n",
    "        while(dad_idx == mom_idx):\n",
    "            mom_idx = np.random.randint(0, len(copy_selected_individuals))\n",
    "        dad = copy_selected_individuals[dad_idx]\n",
    "        mom = copy_selected_individuals[mom_idx]\n",
    "\n",
    "        if(np.random.rand() < crossover_rate):\n",
    "            child_one = child_two = [0] * 8\n",
    "            for j in range(8):\n",
    "                if(j < crossover_point):\n",
    "                    child_one[j] = dad[j]\n",
    "                    child_two[j] = mom[j]\n",
    "                else:\n",
    "                    child_one[j] = mom[j]\n",
    "                    child_two[j] = dad[j]\n",
    "            new_population.append(child_one)\n",
    "            new_population.append(child_two)\n",
    "        else:\n",
    "            new_population.append(dad)\n",
    "            new_population.append(mom)\n",
    "\n",
    "    return np.array(new_population[:population_size])"
   ]
  },
  {
   "cell_type": "code",
   "execution_count": 114,
   "metadata": {},
   "outputs": [
    {
     "name": "stdout",
     "output_type": "stream",
     "text": [
      "BEFORE: 0.8285714285714287\n",
      "AFTER: 0.8685714285714287\n"
     ]
    }
   ],
   "source": [
    "print('BEFORE:', np.average(eval_fitness(state)))\n",
    "crossover_rate = 0.80\n",
    "print('AFTER:', np.average(eval_fitness(recombination(selected_individuals, population_size, crossover_rate))))"
   ]
  },
  {
   "cell_type": "code",
   "execution_count": 96,
   "metadata": {},
   "outputs": [
    {
     "name": "stdout",
     "output_type": "stream",
     "text": [
      "0.8402714285714284\n"
     ]
    }
   ],
   "source": [
    "arr_100 = []\n",
    "for _ in range(100):\n",
    "    arr_100.append(np.average(eval_fitness(recombination(selected_individuals, population_size, crossover_rate))))\n",
    "print(np.average(arr_100))"
   ]
  },
  {
   "cell_type": "code",
   "execution_count": 97,
   "metadata": {},
   "outputs": [],
   "source": [
    "state = recombination(selected_individuals, population_size, crossover_rate)"
   ]
  },
  {
   "cell_type": "code",
   "execution_count": 98,
   "metadata": {},
   "outputs": [
    {
     "data": {
      "text/plain": [
       "(100, 8)"
      ]
     },
     "execution_count": 98,
     "metadata": {},
     "output_type": "execute_result"
    }
   ],
   "source": [
    "state.shape"
   ]
  },
  {
   "cell_type": "markdown",
   "metadata": {},
   "source": [
    "### Mutation"
   ]
  },
  {
   "cell_type": "code",
   "execution_count": 99,
   "metadata": {},
   "outputs": [],
   "source": [
    "# state = current boards after recombination\n",
    "# mutation_prob = probability of mutation, usually between 1-5% (give it as a decimal, i.e. 0.03)\n",
    "def mutation(state, mutation_prob):\n",
    "    # experiment with different mutation strategies (single-gene mutations, swap mutations, or mix of both)\n",
    "    for board in state:\n",
    "        if(np.random.rand() < mutation_prob):\n",
    "            new_gene = np.random.randint(1,8+1)\n",
    "            insert_idx = np.random.randint(0,8)\n",
    "            board[insert_idx] = new_gene\n",
    "    return state"
   ]
  },
  {
   "cell_type": "code",
   "execution_count": 100,
   "metadata": {},
   "outputs": [],
   "source": [
    "mutation_prob = 0.03\n",
    "state = mutation(state, mutation_prob)"
   ]
  },
  {
   "cell_type": "code",
   "execution_count": 101,
   "metadata": {},
   "outputs": [
    {
     "name": "stdout",
     "output_type": "stream",
     "text": [
      "2\n"
     ]
    }
   ],
   "source": [
    "if(np.any(np.array([0.5, 0.3, 1]) == 1)):\n",
    "    index = np.argmax(np.array([0.5, 0.3, 1]))\n",
    "    print(index)"
   ]
  }
 ],
 "metadata": {
  "kernelspec": {
   "display_name": "Python 3",
   "language": "python",
   "name": "python3"
  },
  "language_info": {
   "codemirror_mode": {
    "name": "ipython",
    "version": 3
   },
   "file_extension": ".py",
   "mimetype": "text/x-python",
   "name": "python",
   "nbconvert_exporter": "python",
   "pygments_lexer": "ipython3",
   "version": "3.11.9"
  }
 },
 "nbformat": 4,
 "nbformat_minor": 2
}
