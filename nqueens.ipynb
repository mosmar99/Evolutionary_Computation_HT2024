{
 "cells": [
  {
   "cell_type": "code",
   "execution_count": 518,
   "metadata": {},
   "outputs": [],
   "source": [
    "import numpy as np\n",
    "import random as rd\n",
    "from sys import getsizeof\n",
    "import math "
   ]
  },
  {
   "cell_type": "markdown",
   "metadata": {},
   "source": [
    "### State"
   ]
  },
  {
   "cell_type": "code",
   "execution_count": 519,
   "metadata": {},
   "outputs": [
    {
     "name": "stdout",
     "output_type": "stream",
     "text": [
      "   a  b  c  d  e  f  g  h\n",
      "1  Q  .  .  .  .  .  .  .  1\n",
      "2  .  Q  .  .  .  .  .  .  2\n",
      "3  .  .  Q  .  .  .  .  .  3\n",
      "4  .  .  .  Q  .  .  .  .  4\n",
      "5  .  .  .  .  Q  .  .  .  5\n",
      "6  .  .  .  .  .  Q  .  .  6\n",
      "7  .  .  .  .  .  .  Q  .  7\n",
      "8  .  .  .  .  .  .  .  Q  8\n",
      "   a  b  c  d  e  f  g  h\n"
     ]
    }
   ],
   "source": [
    "def visualize_board(state):\n",
    "    n = len(state)\n",
    "    columns = \"abcdefgh\"  \n",
    "    \n",
    "    print(\"   \" + \"  \".join(columns[:n]))\n",
    "\n",
    "    for row in range(n):\n",
    "        line = f\"{row + 1}  \" \n",
    "        for col in range(n):\n",
    "            if state[col] == row + 1: \n",
    "                line += \"Q  \"\n",
    "            else:\n",
    "                line += \".  \"\n",
    "        line += f\"{row + 1}\"  \n",
    "        print(line)\n",
    "    \n",
    "    print(\"   \" + \"  \".join(columns[:n]))\n",
    "\n",
    "# Example usage:\n",
    "state = np.array([1,2,3,4,5,6,7,8])\n",
    "visualize_board(state)"
   ]
  },
  {
   "cell_type": "markdown",
   "metadata": {},
   "source": [
    "### Fitness Function"
   ]
  },
  {
   "cell_type": "code",
   "execution_count": 520,
   "metadata": {},
   "outputs": [],
   "source": [
    "def fitness_function(state):\n",
    "    # To Check: \n",
    "    # 1] Queens can't be in the same row (due to state representation, no need to check for conflicting columns)\n",
    "    # 2] Queens can't be in the same diagonal\n",
    "    # Fitness Functions returns: '#(Conflicting Pairs of Queens)'\n",
    "    n = len(state)\n",
    "    conflict_counter = 0\n",
    "    for Q1 in range(n):\n",
    "        for Q2 in range(Q1+1, n):\n",
    "            # counts conflicts row-wise\n",
    "            if(state[Q1] == state[Q2]):\n",
    "                conflict_counter += 1\n",
    "            # counts conflicts diag-wise\n",
    "            # EX: [_,1,_,_,_,_,6,_] -> (2,1) & (7,6) => DIAG: (2-7)=(1-6) <=> (-5)=(-5)\n",
    "            if(state[Q1]-state[Q2] == Q1-Q2):\n",
    "                conflict_counter += 1\n",
    "    return conflict_counter"
   ]
  },
  {
   "cell_type": "code",
   "execution_count": 521,
   "metadata": {},
   "outputs": [
    {
     "data": {
      "text/plain": [
       "28"
      ]
     },
     "execution_count": 521,
     "metadata": {},
     "output_type": "execute_result"
    }
   ],
   "source": [
    "fitness_function(state)"
   ]
  },
  {
   "cell_type": "markdown",
   "metadata": {},
   "source": [
    "### Population Generation"
   ]
  },
  {
   "cell_type": "code",
   "execution_count": 522,
   "metadata": {},
   "outputs": [],
   "source": [
    "def init_population_generation(n):\n",
    "    # low while is included while high value is excluded in the calculations\n",
    "    return np.random.randint(low=1, high=8+1, size=(n,8))"
   ]
  },
  {
   "cell_type": "code",
   "execution_count": 523,
   "metadata": {},
   "outputs": [],
   "source": [
    "population_size = 38 # choose an even number\n",
    "state = init_population_generation(population_size)\n",
    "# state"
   ]
  },
  {
   "cell_type": "markdown",
   "metadata": {},
   "source": [
    "### Evaluate Function Fitness"
   ]
  },
  {
   "cell_type": "code",
   "execution_count": 524,
   "metadata": {},
   "outputs": [],
   "source": [
    "def eval_curr_fitness(state, population_size):\n",
    "    fitness_evals = []\n",
    "    for i in range(0, population_size):\n",
    "        fitness_evals.append(1 - fitness_function(state[i]) / 28)\n",
    "    return np.array(fitness_evals)\n",
    "\n",
    "fitness_evals = eval_curr_fitness(state, population_size)"
   ]
  },
  {
   "cell_type": "code",
   "execution_count": 525,
   "metadata": {},
   "outputs": [
    {
     "data": {
      "text/plain": [
       "array([0.85714286, 0.67857143, 0.85714286, 0.82142857, 0.85714286,\n",
       "       0.85714286, 0.92857143, 0.78571429, 0.92857143, 0.85714286,\n",
       "       0.75      , 0.89285714, 0.85714286, 0.89285714, 0.82142857,\n",
       "       0.71428571, 0.85714286, 0.85714286, 0.78571429, 0.75      ,\n",
       "       0.67857143, 0.82142857, 0.75      , 0.82142857, 0.85714286,\n",
       "       0.75      , 0.85714286, 0.78571429, 0.67857143, 0.85714286,\n",
       "       0.78571429, 0.75      , 0.82142857, 0.82142857, 0.89285714,\n",
       "       0.85714286, 0.85714286, 0.78571429])"
      ]
     },
     "execution_count": 525,
     "metadata": {},
     "output_type": "execute_result"
    }
   ],
   "source": [
    "fitness_evals"
   ]
  },
  {
   "cell_type": "markdown",
   "metadata": {},
   "source": [
    "### Selection"
   ]
  },
  {
   "cell_type": "code",
   "execution_count": 526,
   "metadata": {},
   "outputs": [],
   "source": [
    "def selection(state, fitness_evals, population_size):\n",
    "    selected_individuals = []\n",
    "    copy_state = state\n",
    "    copy_fitness_evals = fitness_evals\n",
    "    while(len(selected_individuals) < population_size):\n",
    "        if (copy_state.shape[0] == 0):\n",
    "            copy_state = state\n",
    "            copy_fitness_evals = fitness_evals\n",
    "        i = np.random.randint(low=0, high=len(copy_state))\n",
    "        if rd.random() < copy_fitness_evals[i]:\n",
    "            selected_individuals.append(copy_state[i])\n",
    "            copy_state = np.delete(arr=copy_state, obj=i, axis=0)\n",
    "            copy_fitness_evals = np.delete(arr=copy_fitness_evals, obj=i, axis=0)\n",
    "        \n",
    "    return np.array(selected_individuals)"
   ]
  },
  {
   "cell_type": "code",
   "execution_count": 527,
   "metadata": {},
   "outputs": [],
   "source": [
    "selected_individuals = selection(state, fitness_evals, population_size)"
   ]
  },
  {
   "cell_type": "code",
   "execution_count": 528,
   "metadata": {},
   "outputs": [
    {
     "name": "stdout",
     "output_type": "stream",
     "text": [
      "38 38\n"
     ]
    }
   ],
   "source": [
    "print(len(selected_individuals), population_size)"
   ]
  },
  {
   "cell_type": "code",
   "execution_count": 529,
   "metadata": {},
   "outputs": [
    {
     "name": "stdout",
     "output_type": "stream",
     "text": [
      "[[7 5 8 8 4 8 2 8]\n",
      " [7 4 3 3 2 2 7 1]\n",
      " [2 6 6 7 7 1 4 6]\n",
      " [3 1 8 7 8 7 1 4]\n",
      " [5 4 1 3 8 3 5 7]\n",
      " [8 8 6 4 3 7 1 8]\n",
      " [2 3 3 6 8 7 2 4]\n",
      " [4 2 1 7 5 2 8 1]\n",
      " [1 7 3 7 8 8 5 4]\n",
      " [7 3 5 6 5 4 8 4]\n",
      " [2 8 4 7 6 6 6 8]\n",
      " [2 4 3 1 7 1 3 4]\n",
      " [1 5 1 2 2 8 4 5]\n",
      " [3 3 4 3 8 4 3 6]\n",
      " [4 3 5 7 3 5 8 2]\n",
      " [4 5 4 3 1 6 2 6]\n",
      " [6 4 6 4 1 2 7 5]\n",
      " [4 5 3 1 3 4 8 8]\n",
      " [2 8 1 4 6 1 6 3]\n",
      " [1 1 7 2 2 5 1 3]\n",
      " [7 2 3 5 1 6 5 7]\n",
      " [5 2 8 3 7 1 5 7]\n",
      " [4 5 7 6 3 1 8 8]\n",
      " [2 7 1 4 4 8 4 1]\n",
      " [5 3 7 2 1 2 3 6]\n",
      " [8 1 2 7 5 6 4 7]\n",
      " [7 3 7 3 8 2 4 3]\n",
      " [5 3 8 6 7 5 8 8]\n",
      " [5 6 1 4 8 2 1 3]\n",
      " [1 2 5 1 6 3 3 1]\n",
      " [1 8 8 3 1 3 5 2]\n",
      " [5 4 7 4 5 4 3 6]\n",
      " [6 6 8 8 7 4 6 5]\n",
      " [8 5 7 3 4 4 4 4]\n",
      " [3 6 7 2 7 1 4 4]\n",
      " [4 7 5 4 1 2 4 4]\n",
      " [6 4 6 5 3 7 8 6]\n",
      " [2 2 6 6 8 2 8 6]]\n"
     ]
    }
   ],
   "source": [
    "print(selected_individuals)"
   ]
  },
  {
   "cell_type": "markdown",
   "metadata": {},
   "source": [
    "### Crossover (Recombination)"
   ]
  },
  {
   "cell_type": "code",
   "execution_count": 541,
   "metadata": {},
   "outputs": [],
   "source": [
    "# state = current boards after selection\n",
    "# probability = probability of mutation, usually between 70-90%\n",
    "def recombination(selected_individuals, population_size, crossover_rate):\n",
    "    new_population = []\n",
    "    copy_selected_individuals = selected_individuals.copy()\n",
    "\n",
    "    while len(new_population) < population_size:\n",
    "        crossover_point = np.random.randint(3, 6)\n",
    "        dad_idx = np.random.randint(0, len(copy_selected_individuals))\n",
    "        mom_idx = dad_idx\n",
    "        while(dad_idx == mom_idx):\n",
    "            mom_idx = np.random.randint(0, len(copy_selected_individuals))\n",
    "        dad = copy_selected_individuals[dad_idx]\n",
    "        mom = copy_selected_individuals[mom_idx]\n",
    "\n",
    "        if(np.random.rand() < crossover_rate):\n",
    "            child_one = child_two = [0] * 8\n",
    "            for j in range(8):\n",
    "                if(j < crossover_point):\n",
    "                    child_one[j] = dad[j]\n",
    "                    child_two[j] = mom[j]\n",
    "                else:\n",
    "                    child_one[j] = mom[j]\n",
    "                    child_two[j] = dad[j]\n",
    "            new_population.append(child_one)\n",
    "            new_population.append(child_two)\n",
    "        else:\n",
    "            new_population.append(dad)\n",
    "            new_population.append(mom)\n",
    "\n",
    "    return np.array(new_population[:population_size])"
   ]
  },
  {
   "cell_type": "code",
   "execution_count": 531,
   "metadata": {},
   "outputs": [
    {
     "name": "stdout",
     "output_type": "stream",
     "text": [
      "BEFORE: 0.8167293233082707\n",
      "AFTER: 0.81203007518797\n"
     ]
    }
   ],
   "source": [
    "print('BEFORE:', np.average(eval_curr_fitness(state, population_size)))\n",
    "crossover_rate = 0.80\n",
    "print('AFTER:', np.average(eval_curr_fitness(recombination(selected_individuals, population_size, crossover_rate), population_size)))"
   ]
  },
  {
   "cell_type": "code",
   "execution_count": 532,
   "metadata": {},
   "outputs": [
    {
     "name": "stdout",
     "output_type": "stream",
     "text": [
      "0.8152255639097747\n"
     ]
    }
   ],
   "source": [
    "arr_100 = []\n",
    "for _ in range(100):\n",
    "    arr_100.append(np.average(eval_curr_fitness(recombination(selected_individuals, population_size, crossover_rate), population_size)))\n",
    "print(np.average(arr_100))"
   ]
  },
  {
   "cell_type": "code",
   "execution_count": 534,
   "metadata": {},
   "outputs": [],
   "source": [
    "state = recombination(selected_individuals, population_size, crossover_rate)"
   ]
  },
  {
   "cell_type": "code",
   "execution_count": 535,
   "metadata": {},
   "outputs": [
    {
     "data": {
      "text/plain": [
       "(38, 8)"
      ]
     },
     "execution_count": 535,
     "metadata": {},
     "output_type": "execute_result"
    }
   ],
   "source": [
    "state.shape"
   ]
  },
  {
   "cell_type": "markdown",
   "metadata": {},
   "source": [
    "### Mutation"
   ]
  },
  {
   "cell_type": "code",
   "execution_count": 538,
   "metadata": {},
   "outputs": [],
   "source": [
    "# state = current boards after recombination\n",
    "# mutation_prob = probability of mutation, usually between 1-5% (give it as a decimal, i.e. 0.03)\n",
    "def mutation(state, mutation_prob):\n",
    "    # experiment with different mutation strategies (single-gene mutations, swap mutations, or mix of both)\n",
    "    for board in state:\n",
    "        if(np.random.rand() < mutation_prob):\n",
    "            new_gene = np.random.randint(1,8+1)\n",
    "            insert_idx = np.random.randint(0,8)\n",
    "            board[insert_idx] = new_gene\n",
    "    return state"
   ]
  },
  {
   "cell_type": "code",
   "execution_count": 539,
   "metadata": {},
   "outputs": [],
   "source": [
    "mutation_prob = 0.03\n",
    "state = mutation(state, mutation_prob)"
   ]
  },
  {
   "cell_type": "code",
   "execution_count": 556,
   "metadata": {},
   "outputs": [
    {
     "name": "stdout",
     "output_type": "stream",
     "text": [
      "2\n"
     ]
    }
   ],
   "source": [
    "if(np.any(np.array([0.5, 0.3, 1]) == 1)):\n",
    "    index = np.argmax(np.array([0.5, 0.3, 1]))\n",
    "    print(index)"
   ]
  }
 ],
 "metadata": {
  "kernelspec": {
   "display_name": "Python 3",
   "language": "python",
   "name": "python3"
  },
  "language_info": {
   "codemirror_mode": {
    "name": "ipython",
    "version": 3
   },
   "file_extension": ".py",
   "mimetype": "text/x-python",
   "name": "python",
   "nbconvert_exporter": "python",
   "pygments_lexer": "ipython3",
   "version": "3.11.9"
  }
 },
 "nbformat": 4,
 "nbformat_minor": 2
}
